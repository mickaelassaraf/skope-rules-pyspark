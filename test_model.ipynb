{
 "cells": [
  {
   "cell_type": "code",
   "execution_count": 12,
   "metadata": {},
   "outputs": [
    {
     "name": "stdout",
     "output_type": "stream",
     "text": [
      "Requirement already satisfied: pip in ./.venv/lib/python3.8/site-packages (25.0.1)\n",
      "Requirement already satisfied: setuptools in ./.venv/lib/python3.8/site-packages (75.3.2)\n",
      "Requirement already satisfied: wheel in ./.venv/lib/python3.8/site-packages (0.45.1)\n",
      "Requirement already satisfied: scikit-learn in ./.venv/lib/python3.8/site-packages (1.1.3)\n",
      "Requirement already satisfied: numpy>=1.17.3 in ./.venv/lib/python3.8/site-packages (from scikit-learn) (1.23.5)\n",
      "Requirement already satisfied: scipy>=1.3.2 in ./.venv/lib/python3.8/site-packages (from scikit-learn) (1.10.1)\n",
      "Requirement already satisfied: joblib>=1.0.0 in ./.venv/lib/python3.8/site-packages (from scikit-learn) (1.4.2)\n",
      "Requirement already satisfied: threadpoolctl>=2.0.0 in ./.venv/lib/python3.8/site-packages (from scikit-learn) (3.5.0)\n",
      "Requirement already satisfied: pandas in ./.venv/lib/python3.8/site-packages (2.0.3)\n",
      "Requirement already satisfied: python-dateutil>=2.8.2 in ./.venv/lib/python3.8/site-packages (from pandas) (2.9.0.post0)\n",
      "Requirement already satisfied: pytz>=2020.1 in ./.venv/lib/python3.8/site-packages (from pandas) (2025.2)\n",
      "Requirement already satisfied: tzdata>=2022.1 in ./.venv/lib/python3.8/site-packages (from pandas) (2025.2)\n",
      "Requirement already satisfied: numpy>=1.20.3 in ./.venv/lib/python3.8/site-packages (from pandas) (1.23.5)\n",
      "Requirement already satisfied: six>=1.5 in ./.venv/lib/python3.8/site-packages (from python-dateutil>=2.8.2->pandas) (1.17.0)\n",
      "Requirement already satisfied: matplotlib in ./.venv/lib/python3.8/site-packages (3.7.5)\n",
      "Requirement already satisfied: contourpy>=1.0.1 in ./.venv/lib/python3.8/site-packages (from matplotlib) (1.1.1)\n",
      "Requirement already satisfied: cycler>=0.10 in ./.venv/lib/python3.8/site-packages (from matplotlib) (0.12.1)\n",
      "Requirement already satisfied: fonttools>=4.22.0 in ./.venv/lib/python3.8/site-packages (from matplotlib) (4.56.0)\n",
      "Requirement already satisfied: kiwisolver>=1.0.1 in ./.venv/lib/python3.8/site-packages (from matplotlib) (1.4.7)\n",
      "Requirement already satisfied: numpy<2,>=1.20 in ./.venv/lib/python3.8/site-packages (from matplotlib) (1.23.5)\n",
      "Requirement already satisfied: packaging>=20.0 in ./.venv/lib/python3.8/site-packages (from matplotlib) (24.2)\n",
      "Requirement already satisfied: pillow>=6.2.0 in ./.venv/lib/python3.8/site-packages (from matplotlib) (10.4.0)\n",
      "Requirement already satisfied: pyparsing>=2.3.1 in ./.venv/lib/python3.8/site-packages (from matplotlib) (3.1.4)\n",
      "Requirement already satisfied: python-dateutil>=2.7 in ./.venv/lib/python3.8/site-packages (from matplotlib) (2.9.0.post0)\n",
      "Requirement already satisfied: importlib-resources>=3.2.0 in ./.venv/lib/python3.8/site-packages (from matplotlib) (6.4.5)\n",
      "Requirement already satisfied: zipp>=3.1.0 in ./.venv/lib/python3.8/site-packages (from importlib-resources>=3.2.0->matplotlib) (3.20.2)\n",
      "Requirement already satisfied: six>=1.5 in ./.venv/lib/python3.8/site-packages (from python-dateutil>=2.7->matplotlib) (1.17.0)\n",
      "Requirement already satisfied: seaborn in ./.venv/lib/python3.8/site-packages (0.13.2)\n",
      "Requirement already satisfied: numpy!=1.24.0,>=1.20 in ./.venv/lib/python3.8/site-packages (from seaborn) (1.23.5)\n",
      "Requirement already satisfied: pandas>=1.2 in ./.venv/lib/python3.8/site-packages (from seaborn) (2.0.3)\n",
      "Requirement already satisfied: matplotlib!=3.6.1,>=3.4 in ./.venv/lib/python3.8/site-packages (from seaborn) (3.7.5)\n",
      "Requirement already satisfied: contourpy>=1.0.1 in ./.venv/lib/python3.8/site-packages (from matplotlib!=3.6.1,>=3.4->seaborn) (1.1.1)\n",
      "Requirement already satisfied: cycler>=0.10 in ./.venv/lib/python3.8/site-packages (from matplotlib!=3.6.1,>=3.4->seaborn) (0.12.1)\n",
      "Requirement already satisfied: fonttools>=4.22.0 in ./.venv/lib/python3.8/site-packages (from matplotlib!=3.6.1,>=3.4->seaborn) (4.56.0)\n",
      "Requirement already satisfied: kiwisolver>=1.0.1 in ./.venv/lib/python3.8/site-packages (from matplotlib!=3.6.1,>=3.4->seaborn) (1.4.7)\n",
      "Requirement already satisfied: packaging>=20.0 in ./.venv/lib/python3.8/site-packages (from matplotlib!=3.6.1,>=3.4->seaborn) (24.2)\n",
      "Requirement already satisfied: pillow>=6.2.0 in ./.venv/lib/python3.8/site-packages (from matplotlib!=3.6.1,>=3.4->seaborn) (10.4.0)\n",
      "Requirement already satisfied: pyparsing>=2.3.1 in ./.venv/lib/python3.8/site-packages (from matplotlib!=3.6.1,>=3.4->seaborn) (3.1.4)\n",
      "Requirement already satisfied: python-dateutil>=2.7 in ./.venv/lib/python3.8/site-packages (from matplotlib!=3.6.1,>=3.4->seaborn) (2.9.0.post0)\n",
      "Requirement already satisfied: importlib-resources>=3.2.0 in ./.venv/lib/python3.8/site-packages (from matplotlib!=3.6.1,>=3.4->seaborn) (6.4.5)\n",
      "Requirement already satisfied: pytz>=2020.1 in ./.venv/lib/python3.8/site-packages (from pandas>=1.2->seaborn) (2025.2)\n",
      "Requirement already satisfied: tzdata>=2022.1 in ./.venv/lib/python3.8/site-packages (from pandas>=1.2->seaborn) (2025.2)\n",
      "Requirement already satisfied: zipp>=3.1.0 in ./.venv/lib/python3.8/site-packages (from importlib-resources>=3.2.0->matplotlib!=3.6.1,>=3.4->seaborn) (3.20.2)\n",
      "Requirement already satisfied: six>=1.5 in ./.venv/lib/python3.8/site-packages (from python-dateutil>=2.7->matplotlib!=3.6.1,>=3.4->seaborn) (1.17.0)\n",
      "Requirement already satisfied: pyarrow in ./.venv/lib/python3.8/site-packages (17.0.0)\n",
      "Requirement already satisfied: numpy>=1.16.6 in ./.venv/lib/python3.8/site-packages (from pyarrow) (1.23.5)\n"
     ]
    }
   ],
   "source": [
    "!pip install --upgrade pip setuptools wheel\n",
    "\n",
    "!pip install scikit-learn\n",
    "!pip install pandas\n",
    "!pip install matplotlib\n",
    "!pip install seaborn\n",
    "!pip install pyarrow"
   ]
  },
  {
   "cell_type": "code",
   "execution_count": 13,
   "metadata": {},
   "outputs": [
    {
     "name": "stdout",
     "output_type": "stream",
     "text": [
      "Found existing installation: numpy 1.23.5\n",
      "Uninstalling numpy-1.23.5:\n",
      "  Successfully uninstalled numpy-1.23.5\n",
      "Found existing installation: scikit-learn 1.1.3\n",
      "Uninstalling scikit-learn-1.1.3:\n",
      "  Successfully uninstalled scikit-learn-1.1.3\n",
      "Collecting numpy==1.23.5\n",
      "  Using cached numpy-1.23.5-cp38-cp38-macosx_10_9_x86_64.whl.metadata (2.3 kB)\n",
      "Collecting scikit-learn==1.1.3\n",
      "  Using cached scikit_learn-1.1.3-cp38-cp38-macosx_10_9_x86_64.whl.metadata (10 kB)\n",
      "Requirement already satisfied: scipy>=1.3.2 in ./.venv/lib/python3.8/site-packages (from scikit-learn==1.1.3) (1.10.1)\n",
      "Requirement already satisfied: joblib>=1.0.0 in ./.venv/lib/python3.8/site-packages (from scikit-learn==1.1.3) (1.4.2)\n",
      "Requirement already satisfied: threadpoolctl>=2.0.0 in ./.venv/lib/python3.8/site-packages (from scikit-learn==1.1.3) (3.5.0)\n",
      "Using cached numpy-1.23.5-cp38-cp38-macosx_10_9_x86_64.whl (18.1 MB)\n",
      "Using cached scikit_learn-1.1.3-cp38-cp38-macosx_10_9_x86_64.whl (8.6 MB)\n",
      "Installing collected packages: numpy, scikit-learn\n",
      "Successfully installed numpy-1.23.5 scikit-learn-1.1.3\n"
     ]
    }
   ],
   "source": [
    "!pip uninstall numpy scikit-learn -y\n",
    "!pip install numpy==1.23.5 scikit-learn==1.1.3\n"
   ]
  },
  {
   "cell_type": "code",
   "execution_count": null,
   "metadata": {},
   "outputs": [
    {
     "name": "stdout",
     "output_type": "stream",
     "text": [
      "Requirement already satisfied: pandas in ./.venv/lib/python3.8/site-packages (2.0.3)\n",
      "Requirement already satisfied: python-dateutil>=2.8.2 in ./.venv/lib/python3.8/site-packages (from pandas) (2.9.0.post0)\n",
      "Requirement already satisfied: pytz>=2020.1 in ./.venv/lib/python3.8/site-packages (from pandas) (2025.2)\n",
      "Requirement already satisfied: tzdata>=2022.1 in ./.venv/lib/python3.8/site-packages (from pandas) (2025.2)\n",
      "Requirement already satisfied: numpy>=1.20.3 in ./.venv/lib/python3.8/site-packages (from pandas) (1.23.5)\n",
      "Requirement already satisfied: six>=1.5 in ./.venv/lib/python3.8/site-packages (from python-dateutil>=2.8.2->pandas) (1.17.0)\n",
      "Requirement already satisfied: matplotlib in ./.venv/lib/python3.8/site-packages (3.7.5)\n",
      "Requirement already satisfied: contourpy>=1.0.1 in ./.venv/lib/python3.8/site-packages (from matplotlib) (1.1.1)\n",
      "Requirement already satisfied: cycler>=0.10 in ./.venv/lib/python3.8/site-packages (from matplotlib) (0.12.1)\n",
      "Requirement already satisfied: fonttools>=4.22.0 in ./.venv/lib/python3.8/site-packages (from matplotlib) (4.56.0)\n",
      "Requirement already satisfied: kiwisolver>=1.0.1 in ./.venv/lib/python3.8/site-packages (from matplotlib) (1.4.7)\n",
      "Requirement already satisfied: numpy<2,>=1.20 in ./.venv/lib/python3.8/site-packages (from matplotlib) (1.23.5)\n",
      "Requirement already satisfied: packaging>=20.0 in ./.venv/lib/python3.8/site-packages (from matplotlib) (24.2)\n",
      "Requirement already satisfied: pillow>=6.2.0 in ./.venv/lib/python3.8/site-packages (from matplotlib) (10.4.0)\n",
      "Requirement already satisfied: pyparsing>=2.3.1 in ./.venv/lib/python3.8/site-packages (from matplotlib) (3.1.4)\n",
      "Requirement already satisfied: python-dateutil>=2.7 in ./.venv/lib/python3.8/site-packages (from matplotlib) (2.9.0.post0)\n",
      "Requirement already satisfied: importlib-resources>=3.2.0 in ./.venv/lib/python3.8/site-packages (from matplotlib) (6.4.5)\n",
      "Requirement already satisfied: zipp>=3.1.0 in ./.venv/lib/python3.8/site-packages (from importlib-resources>=3.2.0->matplotlib) (3.20.2)\n",
      "Requirement already satisfied: six>=1.5 in ./.venv/lib/python3.8/site-packages (from python-dateutil>=2.7->matplotlib) (1.17.0)\n",
      "Requirement already satisfied: seaborn in ./.venv/lib/python3.8/site-packages (0.13.2)\n",
      "Requirement already satisfied: numpy!=1.24.0,>=1.20 in ./.venv/lib/python3.8/site-packages (from seaborn) (1.23.5)\n",
      "Requirement already satisfied: pandas>=1.2 in ./.venv/lib/python3.8/site-packages (from seaborn) (2.0.3)\n",
      "Requirement already satisfied: matplotlib!=3.6.1,>=3.4 in ./.venv/lib/python3.8/site-packages (from seaborn) (3.7.5)\n",
      "Requirement already satisfied: contourpy>=1.0.1 in ./.venv/lib/python3.8/site-packages (from matplotlib!=3.6.1,>=3.4->seaborn) (1.1.1)\n",
      "Requirement already satisfied: cycler>=0.10 in ./.venv/lib/python3.8/site-packages (from matplotlib!=3.6.1,>=3.4->seaborn) (0.12.1)\n",
      "Requirement already satisfied: fonttools>=4.22.0 in ./.venv/lib/python3.8/site-packages (from matplotlib!=3.6.1,>=3.4->seaborn) (4.56.0)\n",
      "Requirement already satisfied: kiwisolver>=1.0.1 in ./.venv/lib/python3.8/site-packages (from matplotlib!=3.6.1,>=3.4->seaborn) (1.4.7)\n",
      "Requirement already satisfied: packaging>=20.0 in ./.venv/lib/python3.8/site-packages (from matplotlib!=3.6.1,>=3.4->seaborn) (24.2)\n",
      "Requirement already satisfied: pillow>=6.2.0 in ./.venv/lib/python3.8/site-packages (from matplotlib!=3.6.1,>=3.4->seaborn) (10.4.0)\n",
      "Requirement already satisfied: pyparsing>=2.3.1 in ./.venv/lib/python3.8/site-packages (from matplotlib!=3.6.1,>=3.4->seaborn) (3.1.4)\n",
      "Requirement already satisfied: python-dateutil>=2.7 in ./.venv/lib/python3.8/site-packages (from matplotlib!=3.6.1,>=3.4->seaborn) (2.9.0.post0)\n",
      "Requirement already satisfied: importlib-resources>=3.2.0 in ./.venv/lib/python3.8/site-packages (from matplotlib!=3.6.1,>=3.4->seaborn) (6.4.5)\n",
      "Requirement already satisfied: pytz>=2020.1 in ./.venv/lib/python3.8/site-packages (from pandas>=1.2->seaborn) (2025.2)\n",
      "Requirement already satisfied: tzdata>=2022.1 in ./.venv/lib/python3.8/site-packages (from pandas>=1.2->seaborn) (2025.2)\n",
      "Requirement already satisfied: zipp>=3.1.0 in ./.venv/lib/python3.8/site-packages (from importlib-resources>=3.2.0->matplotlib!=3.6.1,>=3.4->seaborn) (3.20.2)\n",
      "Requirement already satisfied: six>=1.5 in ./.venv/lib/python3.8/site-packages (from python-dateutil>=2.7->matplotlib!=3.6.1,>=3.4->seaborn) (1.17.0)\n",
      "Requirement already satisfied: pyarrow in ./.venv/lib/python3.8/site-packages (17.0.0)\n",
      "Requirement already satisfied: numpy>=1.16.6 in ./.venv/lib/python3.8/site-packages (from pyarrow) (1.23.5)\n"
     ]
    }
   ],
   "source": [
    "!pip install matplotlib\n",
    "!pip install seaborn\n",
    "!pip install pyarrow"
   ]
  },
  {
   "cell_type": "code",
   "execution_count": null,
   "metadata": {},
   "outputs": [],
   "source": [
    "pip install pyspark==3.3.1 scikit-learn==1.1.3 cloudpickle==2.2.1 numpy==1.23.5 \n"
   ]
  },
  {
   "cell_type": "code",
   "execution_count": 3,
   "metadata": {},
   "outputs": [],
   "source": [
    "%load_ext autoreload\n",
    "%autoreload 2\n"
   ]
  },
  {
   "cell_type": "code",
   "execution_count": 8,
   "metadata": {},
   "outputs": [
    {
     "name": "stdout",
     "output_type": "stream",
     "text": [
      "Found existing installation: numpy 1.23.5\n",
      "Uninstalling numpy-1.23.5:\n",
      "  Successfully uninstalled numpy-1.23.5\n",
      "Found existing installation: scikit-learn 1.1.3\n",
      "Uninstalling scikit-learn-1.1.3:\n",
      "  Successfully uninstalled scikit-learn-1.1.3\n",
      "Collecting numpy==1.23.5\n",
      "  Using cached numpy-1.23.5-cp38-cp38-macosx_10_9_x86_64.whl.metadata (2.3 kB)\n",
      "Collecting scikit-learn==1.1.3\n",
      "  Using cached scikit_learn-1.1.3-cp38-cp38-macosx_10_9_x86_64.whl.metadata (10 kB)\n",
      "Requirement already satisfied: scipy>=1.3.2 in ./.venv/lib/python3.8/site-packages (from scikit-learn==1.1.3) (1.10.1)\n",
      "Requirement already satisfied: joblib>=1.0.0 in ./.venv/lib/python3.8/site-packages (from scikit-learn==1.1.3) (1.4.2)\n",
      "Requirement already satisfied: threadpoolctl>=2.0.0 in ./.venv/lib/python3.8/site-packages (from scikit-learn==1.1.3) (3.5.0)\n",
      "Using cached numpy-1.23.5-cp38-cp38-macosx_10_9_x86_64.whl (18.1 MB)\n",
      "Using cached scikit_learn-1.1.3-cp38-cp38-macosx_10_9_x86_64.whl (8.6 MB)\n",
      "Installing collected packages: numpy, scikit-learn\n",
      "Successfully installed numpy-1.23.5 scikit-learn-1.1.3\n"
     ]
    }
   ],
   "source": [
    "!pip uninstall numpy scikit-learn -y\n",
    "!pip install numpy==1.23.5 scikit-learn==1.1.3"
   ]
  },
  {
   "cell_type": "code",
   "execution_count": 1,
   "metadata": {},
   "outputs": [],
   "source": [
    "from skoperulespyspark.skope_rules import SkopeRules"
   ]
  },
  {
   "cell_type": "code",
   "execution_count": 2,
   "metadata": {},
   "outputs": [
    {
     "name": "stdout",
     "output_type": "stream",
     "text": [
      "   feature_0  feature_1  feature_2  feature_3  feature_4\n",
      "0   0.621810  -1.651952  -1.570225  -1.442228   2.085088\n",
      "1  -0.704344  -1.799831  -1.408461  -0.965512   1.906484\n",
      "2  -0.095296   0.481188   0.279022  -0.934015   1.924062\n",
      "3  -0.241236  -0.728721   0.352055  -0.467196   0.131468\n",
      "4  -1.280304   0.708512   0.872457   0.887858  -0.697708\n",
      "[0 0 1 1 0]\n"
     ]
    }
   ],
   "source": [
    "from sklearn.datasets import make_classification\n",
    "import pandas as pd\n",
    "\n",
    "# Création d'un dataset de classification binaire simple\n",
    "X, y = make_classification(\n",
    "    n_samples=200,     # nombre d'échantillons\n",
    "    n_features=5,      # nombre de features\n",
    "    n_informative=3,   # nombre de features vraiment utiles\n",
    "    n_redundant=0,     # pas de features redondants\n",
    "    n_clusters_per_class=1,\n",
    "    random_state=42\n",
    ")\n",
    "\n",
    "# Optionnel : transformer X en DataFrame pour y mettre des noms de colonnes\n",
    "feature_names = [f'feature_{i}' for i in range(X.shape[1])]\n",
    "X_df = pd.DataFrame(X, columns=feature_names)\n",
    "\n",
    "# Affichage de la forme des données\n",
    "print(X_df.head())\n",
    "print(y[:5])\n"
   ]
  },
  {
   "cell_type": "code",
   "execution_count": 3,
   "metadata": {},
   "outputs": [
    {
     "name": "stderr",
     "output_type": "stream",
     "text": [
      "Setting default log level to \"WARN\".\n",
      "To adjust logging level use sc.setLogLevel(newLevel). For SparkR, use setLogLevel(newLevel).\n"
     ]
    },
    {
     "name": "stdout",
     "output_type": "stream",
     "text": [
      "25/04/02 16:50:46 WARN NativeCodeLoader: Unable to load native-hadoop library for your platform... using builtin-java classes where applicable\n"
     ]
    }
   ],
   "source": [
    "from pyspark.sql import SparkSession\n",
    "\n",
    "spark = SparkSession.builder \\\n",
    "    .appName(\"SkopeRulesData\") \\\n",
    "    .getOrCreate()\n"
   ]
  },
  {
   "cell_type": "code",
   "execution_count": 10,
   "metadata": {},
   "outputs": [
    {
     "name": "stdout",
     "output_type": "stream",
     "text": [
      "Collecting pandas==1.5.3\n",
      "  Downloading pandas-1.5.3-cp38-cp38-macosx_10_9_x86_64.whl.metadata (11 kB)\n",
      "Requirement already satisfied: python-dateutil>=2.8.1 in ./.venv/lib/python3.8/site-packages (from pandas==1.5.3) (2.9.0.post0)\n",
      "Requirement already satisfied: pytz>=2020.1 in ./.venv/lib/python3.8/site-packages (from pandas==1.5.3) (2025.2)\n",
      "Requirement already satisfied: numpy>=1.20.3 in ./.venv/lib/python3.8/site-packages (from pandas==1.5.3) (1.23.5)\n",
      "Requirement already satisfied: six>=1.5 in ./.venv/lib/python3.8/site-packages (from python-dateutil>=2.8.1->pandas==1.5.3) (1.17.0)\n",
      "Downloading pandas-1.5.3-cp38-cp38-macosx_10_9_x86_64.whl (11.9 MB)\n",
      "\u001b[2K   \u001b[90m━━━━━━━━━━━━━━━━━━━━━━━━━━━━━━━━━━━━━━━━\u001b[0m \u001b[32m11.9/11.9 MB\u001b[0m \u001b[31m53.2 MB/s\u001b[0m eta \u001b[36m0:00:00\u001b[0ma \u001b[36m0:00:01\u001b[0m\n",
      "\u001b[?25hInstalling collected packages: pandas\n",
      "  Attempting uninstall: pandas\n",
      "    Found existing installation: pandas 2.0.3\n",
      "    Uninstalling pandas-2.0.3:\n",
      "      Successfully uninstalled pandas-2.0.3\n",
      "Successfully installed pandas-1.5.3\n",
      "Note: you may need to restart the kernel to use updated packages.\n"
     ]
    }
   ],
   "source": [
    "pip install pandas==1.5.3\n"
   ]
  },
  {
   "cell_type": "code",
   "execution_count": 4,
   "metadata": {},
   "outputs": [
    {
     "name": "stderr",
     "output_type": "stream",
     "text": [
      "/Users/mickaelassaraf/skope-rules-pyspark/.venv/lib/python3.8/site-packages/pyspark/sql/pandas/conversion.py:474: FutureWarning: iteritems is deprecated and will be removed in a future version. Use .items instead.\n",
      "  for column, series in pdf.iteritems():\n",
      "/Users/mickaelassaraf/skope-rules-pyspark/.venv/lib/python3.8/site-packages/pyspark/sql/pandas/conversion.py:486: FutureWarning: iteritems is deprecated and will be removed in a future version. Use .items instead.\n",
      "  for column, series in pdf.iteritems():\n",
      "[Stage 0:>                                                          (0 + 1) / 1]\r"
     ]
    },
    {
     "name": "stdout",
     "output_type": "stream",
     "text": [
      "+--------------------+-------------------+-------------------+-------------------+-------------------+\n",
      "|           feature_0|          feature_1|          feature_2|          feature_3|          feature_4|\n",
      "+--------------------+-------------------+-------------------+-------------------+-------------------+\n",
      "|  0.6218099622171964|-1.6519521220167126|-1.5702247198904564|-1.4422277399897183|  2.085088172014556|\n",
      "| -0.7043436905427592|-1.7998314306629748|-1.4084612963635597|-0.9655118629004646| 1.9064841686885794|\n",
      "| -0.0952955323869521|0.48118826022148664|0.27902152577033923|   -0.9340147424513|   1.92406212449343|\n",
      "|-0.24123605785632987|-0.7287209723619907| 0.3520553965142968|-0.4671955130386416| 0.1314683783130567|\n",
      "| -1.2803043986708944| 0.7085117299020361| 0.8724573282801447| 0.8878576729295498|-0.6977081418283249|\n",
      "+--------------------+-------------------+-------------------+-------------------+-------------------+\n",
      "only showing top 5 rows\n",
      "\n"
     ]
    },
    {
     "name": "stderr",
     "output_type": "stream",
     "text": [
      "                                                                                \r"
     ]
    }
   ],
   "source": [
    "df_spark = spark.createDataFrame(X_df)\n",
    "df_spark.show(5)\n"
   ]
  },
  {
   "cell_type": "code",
   "execution_count": 4,
   "metadata": {},
   "outputs": [],
   "source": [
    "model = SkopeRules(\n",
    "    n_estimators=100,  # nombre d'arbres\n",
    "    max_depth=5,       # profondeur maximale des arbres\n",
    "    random_state=42,\n",
    "    verbose=1,\n",
    "    n_jobs=-1,\n",
    ")\n"
   ]
  },
  {
   "cell_type": "code",
   "execution_count": 5,
   "metadata": {},
   "outputs": [
    {
     "name": "stderr",
     "output_type": "stream",
     "text": [
      "[Parallel(n_jobs=8)]: Using backend LokyBackend with 8 concurrent workers.\n",
      "[Parallel(n_jobs=8)]: Done   2 out of   8 | elapsed:    2.8s remaining:    8.4s\n",
      "[Parallel(n_jobs=8)]: Done   8 out of   8 | elapsed:    2.9s finished\n",
      "[Parallel(n_jobs=8)]: Using backend LokyBackend with 8 concurrent workers.\n",
      "[Parallel(n_jobs=8)]: Done   2 out of   8 | elapsed:    0.0s remaining:    0.1s\n",
      "[Parallel(n_jobs=8)]: Done   8 out of   8 | elapsed:    0.0s finished\n"
     ]
    },
    {
     "name": "stdout",
     "output_type": "stream",
     "text": [
      "Règles apprises :\n",
      "('__C__1 > -0.1953609362244606 and __C__4 > -0.6533460021018982', (1.0, 0.9523809523809523, 2))\n",
      "('__C__1 > -0.19962367415428162 and __C__4 > -1.2627553343772888', (0.8947368421052632, 1.0, 2))\n",
      "('__C__1 > -0.19962367415428162 and __C__4 > -0.6219995021820068', (1.0, 0.888198757763975, 10))\n",
      "('__C__1 > -0.19962367415428162 and __C__4 > -0.557672306895256', (1.0, 0.8871635610766045, 4))\n",
      "('__C__1 > -0.1929747611284256 and __C__4 > -0.6533460021018982', (1.0, 0.8450079744816587, 10))\n",
      "('__C__1 > -0.19522278755903244 and __C__4 > -0.6533460021018982', (1.0, 0.8321905837433787, 14))\n",
      "('__C__1 > -0.20200984925031662 and __C__4 > -0.6533460021018982', (1.0, 0.829125467536713, 14))\n",
      "('__C__1 > -0.19962367415428162 and __C__4 > -0.7647395431995392', (0.9370129870129871, 0.8753122197495599, 14))\n",
      "('__C__1 > -0.19962367415428162 and __C__4 > -0.6533460021018982', (1.0, 0.8205140394353564, 82))\n",
      "('__C__1 > -0.19962367415428162 and __C__4 > -1.1677517890930176', (0.8973684210526316, 0.8973684210526316, 4))\n",
      "('__C__0 <= 2.543508529663086 and __C__1 > -0.20200984925031662', (0.85, 0.9444444444444444, 2))\n",
      "('__C__1 > -0.19962367415428162 and __C__4 > -0.7960860431194305', (0.9445728291316525, 0.8351178152420389, 14))\n",
      "('__C__1 > -0.17535144090652466 and __C__4 > -0.6219995021820068', (1.0, 0.7916666666666666, 2))\n",
      "('__C__1 > -0.19760896265506744 and __C__4 > -0.6219995021820068', (1.0, 0.782608695652174, 2))\n",
      "('__C__0 > -1.4679741859436035 and __C__1 > -0.3302100747823715 and __C__4 > -0.6629402041435242', (0.8235294117647058, 0.9333333333333333, 2))\n",
      "('__C__1 > -0.26571063697338104 and __C__4 > -0.6533460021018982', (0.9444444444444444, 0.8107503607503607, 6))\n",
      "('__C__1 > -0.1953609362244606 and __C__4 > -0.6219995021820068', (1.0, 0.7619047619047619, 2))\n",
      "('__C__1 > -0.26571063697338104 and __C__4 > -0.6219995021820068', (0.9411764705882353, 0.8, 2))\n",
      "('__C__1 > -0.19522278755903244 and __C__4 > -1.1677517890930176', (0.9047619047619048, 0.8260869565217391, 2))\n",
      "('__C__1 > -0.26806534826755524 and __C__4 > -0.7960860431194305', (0.85, 0.85, 2))\n",
      "('__C__1 > -0.19522278755903244 and __C__4 > -0.7960860431194305', (0.9375, 0.75, 2))\n",
      "('__C__1 > -0.2286025509238243 and __C__4 > -0.6533460021018982', (0.9090909090909091, 0.7692307692307693, 2))\n",
      "('__C__1 > -0.26571063697338104 and __C__4 > -0.7960860431194305', (0.8333333333333334, 0.7894736842105263, 2))\n",
      "('__C__1 > -0.20200984925031662 and __C__4 > -0.6219995021820068', (1.0, 0.6666666666666666, 2))\n",
      "('__C__1 <= -0.3302100747823715 and __C__2 <= 2.133874297142029 and __C__3 <= 0.22767794132232666 and __C__4 <= 1.3310196995735168', (0.5, 0.22727272727272727, 2))\n",
      "('__C__1 <= -0.19962367415428162 and __C__1 > -0.8470495045185089 and __C__3 <= 0.22767794132232666 and __C__4 > 0.89145627617836', (0.6666666666666666, 0.125, 2))\n",
      "('__C__1 <= -0.1929747611284256 and __C__3 > 0.19318214058876038 and __C__4 > -1.0028285384178162', (0.6666666666666666, 0.1, 2))\n",
      "('__C__1 <= -0.19962367415428162 and __C__2 <= 2.133874297142029 and __C__3 > 0.22767794132232666 and __C__4 > -1.0028285384178162', (1.0, 0.09523809523809523, 2))\n",
      "('__C__1 > -0.19962367415428162 and __C__4 <= -0.7647395431995392', (0.5, 0.09090909090909091, 2))\n",
      "('__C__1 <= -0.9879131615161896 and __C__3 <= 0.22767794132232666 and __C__4 <= 1.05271714925766 and __C__4 > -1.0028285384178162', (0.5, 0.09090909090909091, 2))\n",
      "('__C__1 <= -0.19962367415428162 and __C__3 <= -0.932559996843338 and __C__4 <= 0.89145627617836 and __C__4 > -1.0028285384178162', (0.6666666666666666, 0.08695652173913043, 2))\n",
      "('__C__1 > -0.19522278755903244 and __C__4 <= -0.6533460021018982', (0.5, 0.06904761904761905, 4))\n",
      "('__C__1 > -0.19962367415428162 and __C__4 <= -0.6533460021018982', (0.5, 0.05488906088751291, 10))\n",
      "('__C__1 <= -0.19962367415428162 and __C__3 > 0.19318214058876038', (0.5, 0.05385964912280702, 10))\n",
      "('__C__1 <= -0.19962367415428162 and __C__3 <= -1.4237951636314392 and __C__4 <= 1.3310196995735168 and __C__4 > -1.0028285384178162', (0.5, 0.05, 2))\n",
      "('__C__1 <= -0.26571063697338104 and __C__3 <= -0.9558891654014587 and __C__4 <= 0.8561038970947266', (0.5, 0.05, 2))\n",
      "('__C__1 <= 1.0104527473449707 and __C__1 > -0.19962367415428162 and __C__4 <= -0.557672306895256', (0.5, 0.047619047619047616, 2))\n",
      "('__C__1 <= -1.0469942688941956 and __C__2 <= 0.2750926800072193 and __C__3 <= -0.12716330215334892 and __C__4 <= 1.05271714925766', (0.5, 0.047619047619047616, 2))\n",
      "('__C__1 <= -0.8470495045185089 and __C__1 > -1.3942845463752747 and __C__3 <= 0.19318214058876038 and __C__3 > -0.717133492231369', (0.5, 0.047619047619047616, 2))\n",
      "('__C__1 <= -0.19962367415428162 and __C__1 > -0.9513200223445892 and __C__3 <= 0.22767794132232666 and __C__4 > 1.317829966545105', (0.5, 0.045454545454545456, 2))\n",
      "('__C__1 <= -0.1929747611284256 and __C__1 > -0.8712345063686371 and __C__4 > 1.002695471048355', (0.5, 0.045454545454545456, 2))\n",
      "('__C__1 > -0.19760896265506744 and __C__4 <= -0.6219995021820068', (0.5, 0.043478260869565216, 2))\n",
      "('__C__1 <= -0.19522278755903244 and __C__3 > 0.19318214058876038', (0.5, 0.043478260869565216, 2))\n"
     ]
    }
   ],
   "source": [
    "model.fit(X_df, y)\n",
    "# Affichage des règles apprises\n",
    "print(\"Règles apprises :\")\n",
    "for rule in model.rules_:\n",
    "    print(rule)\n"
   ]
  },
  {
   "cell_type": "code",
   "execution_count": 4,
   "metadata": {},
   "outputs": [],
   "source": [
    "from pyspark.sql import SparkSession"
   ]
  },
  {
   "cell_type": "code",
   "execution_count": 21,
   "metadata": {},
   "outputs": [
    {
     "name": "stdout",
     "output_type": "stream",
     "text": [
      "Requirement already satisfied: scikit-learn==1.1.3 in ./.venv/lib/python3.9/site-packages (1.1.3)\n",
      "Requirement already satisfied: numpy>=1.17.3 in ./.venv/lib/python3.9/site-packages (from scikit-learn==1.1.3) (2.0.2)\n",
      "Requirement already satisfied: scipy>=1.3.2 in ./.venv/lib/python3.9/site-packages (from scikit-learn==1.1.3) (1.13.1)\n",
      "Requirement already satisfied: joblib>=1.0.0 in ./.venv/lib/python3.9/site-packages (from scikit-learn==1.1.3) (1.4.2)\n",
      "Requirement already satisfied: threadpoolctl>=2.0.0 in ./.venv/lib/python3.9/site-packages (from scikit-learn==1.1.3) (3.6.0)\n"
     ]
    }
   ],
   "source": [
    "!pip install scikit-learn==1.1.3\n"
   ]
  },
  {
   "cell_type": "code",
   "execution_count": null,
   "metadata": {},
   "outputs": [],
   "source": [
    "from pyspark.ml import Estimator, Model\n",
    "from pyspark.ml.util import DefaultParamsReadable, DefaultParamsWritable\n",
    "\n",
    "from pyspark.ml.param.shared import Param, Params, TypeConverters\n",
    "from pyspark.ml import Estimator, Model\n",
    "from pyspark.ml.util import DefaultParamsReadable, DefaultParamsWritable\n",
    "from pyspark.sql import DataFrame\n",
    "\n",
    "class SkopeRulesPySpark(Estimator, DefaultParamsReadable, DefaultParamsWritable):\n",
    "\n",
    "     def __init__(self,\n",
    "                 feature_names=None,\n",
    "                 precision_min=0.5,\n",
    "                 recall_min=0.01,\n",
    "                 n_estimators=10,\n",
    "                 max_samples=0.8,\n",
    "                 max_samples_features=1.0,\n",
    "                 bootstrap=False,\n",
    "                 bootstrap_features=False,\n",
    "                 max_depth=3,\n",
    "                 max_depth_duplication=None,\n",
    "                 max_features=1.0,\n",
    "                 min_samples_split=2,\n",
    "                 n_jobs=1,\n",
    "                 random_state=None,\n",
    "                 verbose=0):\n",
    "\n",
    "        super(SkopeRulesPySpark, self).__init__()\n",
    "\n",
    "        # Déclaration des Param avec typeConverters\n",
    "        self.feature_names = Param(self, \"feature_names\", \"List of feature names\", TypeConverters.toListString)\n",
    "        self.precision_min = Param(self, \"precision_min\", \"Minimum precision\", TypeConverters.toFloat)\n",
    "        self.recall_min = Param(self, \"recall_min\", \"Minimum recall\", TypeConverters.toFloat)\n",
    "        self.n_estimators = Param(self, \"n_estimators\", \"Number of estimators\", TypeConverters.toInt)\n",
    "        self.max_samples = Param(self, \"max_samples\", \"Max samples\", TypeConverters.toFloat)\n",
    "        self.max_samples_features = Param(self, \"max_samples_features\", \"Max sample features\", TypeConverters.toFloat)\n",
    "        self.bootstrap = Param(self, \"bootstrap\", \"Bootstrap samples\", TypeConverters.toBoolean)\n",
    "        self.bootstrap_features = Param(self, \"bootstrap_features\", \"Bootstrap features\", TypeConverters.toBoolean)\n",
    "        self.max_depth = Param(self, \"max_depth\", \"Max tree depth\", TypeConverters.toInt)\n",
    "        self.max_depth_duplication = Param(self, \"max_depth_duplication\", \"Max depth duplication\", TypeConverters.toInt)\n",
    "        self.max_features = Param(self, \"max_features\", \"Max features\", TypeConverters.toFloat)\n",
    "        self.min_samples_split = Param(self, \"min_samples_split\", \"Min samples split\", TypeConverters.toInt)\n",
    "        self.n_jobs = Param(self, \"n_jobs\", \"Number of jobs\", TypeConverters.toInt)\n",
    "        self.random_state = Param(self, \"random_state\", \"Random state\", TypeConverters.toInt)\n",
    "        self.verbose = Param(self, \"verbose\", \"Verbosity level\", TypeConverters.toInt)\n",
    "\n",
    "        # Défauts\n",
    "        self._setDefault(\n",
    "            precision_min=0.5,\n",
    "            recall_min=0.01,\n",
    "            n_estimators=10,\n",
    "            max_samples=0.8,\n",
    "            max_samples_features=1.0,\n",
    "            bootstrap=False,\n",
    "            bootstrap_features=False,\n",
    "            max_depth=3,\n",
    "            max_depth_duplication=None,\n",
    "            max_features=1.0,\n",
    "            min_samples_split=2,\n",
    "            n_jobs=1,\n",
    "            random_state=None,\n",
    "            verbose=0\n",
    "        )\n",
    "\n",
    "        # Appliquer les paramètres\n",
    "        kwargs = {k: v for k, v in locals().items() if k != \"self\"}\n",
    "        self.setParams(**kwargs)\n",
    "\n",
    "     def setParams(self, **kwargs):\n",
    "        return self._set(**kwargs)\n",
    "    \n",
    "     def _fit(self, dataset: DataFrame):\n",
    "     # Ici tu pourrais entraîner un modèle sklearn, etc.\n",
    "          print(\"Training done. Returning model...\")\n",
    "          return SkopeRulesModelPySpark()\n",
    "\n",
    "\n",
    "\n",
    "\n",
    "\n",
    "\n",
    "\n",
    "# ======================\n",
    "# Model (Predictor)\n",
    "# ======================\n",
    "class SkopeRulesModelPySpark(Model, DefaultParamsReadable, DefaultParamsWritable):\n",
    "\n",
    "    def _transform(self, dataset: DataFrame) -> DataFrame:\n",
    "        # Ici tu pourrais appliquer des règles sur le dataset\n",
    "        print(\"Applying model (no-op)...\")\n",
    "        return dataset\n",
    "        "
   ]
  },
  {
   "cell_type": "code",
   "execution_count": 9,
   "metadata": {},
   "outputs": [
    {
     "ename": "AttributeError",
     "evalue": "type object 'TypeConverters' has no attribute 'toNullableInt'",
     "output_type": "error",
     "traceback": [
      "\u001b[0;31m---------------------------------------------------------------------------\u001b[0m",
      "\u001b[0;31mAttributeError\u001b[0m                            Traceback (most recent call last)",
      "Cell \u001b[0;32mIn[9], line 1\u001b[0m\n\u001b[0;32m----> 1\u001b[0m model \u001b[38;5;241m=\u001b[39m \u001b[43mSkopeRulesPySpark\u001b[49m\u001b[43m(\u001b[49m\u001b[43m)\u001b[49m\n",
      "Cell \u001b[0;32mIn[8], line 40\u001b[0m, in \u001b[0;36mSkopeRulesPySpark.__init__\u001b[0;34m(self, feature_names, precision_min, recall_min, n_estimators, max_samples, max_samples_features, bootstrap, bootstrap_features, max_depth, max_depth_duplication, max_features, min_samples_split, n_jobs, random_state, verbose)\u001b[0m\n\u001b[1;32m     38\u001b[0m \u001b[38;5;28mself\u001b[39m\u001b[38;5;241m.\u001b[39mbootstrap_features \u001b[38;5;241m=\u001b[39m Param(\u001b[38;5;28mself\u001b[39m, \u001b[38;5;124m\"\u001b[39m\u001b[38;5;124mbootstrap_features\u001b[39m\u001b[38;5;124m\"\u001b[39m, \u001b[38;5;124m\"\u001b[39m\u001b[38;5;124mBootstrap features\u001b[39m\u001b[38;5;124m\"\u001b[39m, TypeConverters\u001b[38;5;241m.\u001b[39mtoBoolean)\n\u001b[1;32m     39\u001b[0m \u001b[38;5;28mself\u001b[39m\u001b[38;5;241m.\u001b[39mmax_depth \u001b[38;5;241m=\u001b[39m Param(\u001b[38;5;28mself\u001b[39m, \u001b[38;5;124m\"\u001b[39m\u001b[38;5;124mmax_depth\u001b[39m\u001b[38;5;124m\"\u001b[39m, \u001b[38;5;124m\"\u001b[39m\u001b[38;5;124mMax tree depth\u001b[39m\u001b[38;5;124m\"\u001b[39m, TypeConverters\u001b[38;5;241m.\u001b[39mtoInt)\n\u001b[0;32m---> 40\u001b[0m \u001b[38;5;28mself\u001b[39m\u001b[38;5;241m.\u001b[39mmax_depth_duplication \u001b[38;5;241m=\u001b[39m Param(\u001b[38;5;28mself\u001b[39m, \u001b[38;5;124m\"\u001b[39m\u001b[38;5;124mmax_depth_duplication\u001b[39m\u001b[38;5;124m\"\u001b[39m, \u001b[38;5;124m\"\u001b[39m\u001b[38;5;124mMax depth duplication\u001b[39m\u001b[38;5;124m\"\u001b[39m, \u001b[43mTypeConverters\u001b[49m\u001b[38;5;241;43m.\u001b[39;49m\u001b[43mtoNullableInt\u001b[49m)\n\u001b[1;32m     41\u001b[0m \u001b[38;5;28mself\u001b[39m\u001b[38;5;241m.\u001b[39mmax_features \u001b[38;5;241m=\u001b[39m Param(\u001b[38;5;28mself\u001b[39m, \u001b[38;5;124m\"\u001b[39m\u001b[38;5;124mmax_features\u001b[39m\u001b[38;5;124m\"\u001b[39m, \u001b[38;5;124m\"\u001b[39m\u001b[38;5;124mMax features\u001b[39m\u001b[38;5;124m\"\u001b[39m, TypeConverters\u001b[38;5;241m.\u001b[39mtoFloat)\n\u001b[1;32m     42\u001b[0m \u001b[38;5;28mself\u001b[39m\u001b[38;5;241m.\u001b[39mmin_samples_split \u001b[38;5;241m=\u001b[39m Param(\u001b[38;5;28mself\u001b[39m, \u001b[38;5;124m\"\u001b[39m\u001b[38;5;124mmin_samples_split\u001b[39m\u001b[38;5;124m\"\u001b[39m, \u001b[38;5;124m\"\u001b[39m\u001b[38;5;124mMin samples split\u001b[39m\u001b[38;5;124m\"\u001b[39m, TypeConverters\u001b[38;5;241m.\u001b[39mtoInt)\n",
      "\u001b[0;31mAttributeError\u001b[0m: type object 'TypeConverters' has no attribute 'toNullableInt'"
     ]
    }
   ],
   "source": [
    "model = SkopeRulesPySpark()"
   ]
  },
  {
   "cell_type": "code",
   "execution_count": null,
   "metadata": {},
   "outputs": [],
   "source": []
  }
 ],
 "metadata": {
  "kernelspec": {
   "display_name": ".venv",
   "language": "python",
   "name": "python3"
  },
  "language_info": {
   "codemirror_mode": {
    "name": "ipython",
    "version": 3
   },
   "file_extension": ".py",
   "mimetype": "text/x-python",
   "name": "python",
   "nbconvert_exporter": "python",
   "pygments_lexer": "ipython3",
   "version": "3.8.9"
  }
 },
 "nbformat": 4,
 "nbformat_minor": 2
}
